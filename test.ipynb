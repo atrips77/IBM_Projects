{
    "cells": [
        {
            "cell_type": "code",
            "execution_count": 25,
            "metadata": {},
            "outputs": [],
            "source": "%config IPCompleter.greedy=True"
        },
        {
            "cell_type": "code",
            "execution_count": 26,
            "metadata": {},
            "outputs": [],
            "source": "rdd=sc.parallelize([1,2,4,5,34,1,32,4,34,2,1,3])"
        },
        {
            "cell_type": "code",
            "execution_count": 27,
            "metadata": {},
            "outputs": [
                {
                    "name": "stdout",
                    "output_type": "stream",
                    "text": "10.25\n"
                }
            ],
            "source": "total_sum=rdd.sum()\nn=rdd.count()\nmean=float(total_sum/n)\nprint(mean)"
        },
        {
            "cell_type": "code",
            "execution_count": 30,
            "metadata": {},
            "outputs": [
                {
                    "name": "stdout",
                    "output_type": "stream",
                    "text": "3.5\n"
                }
            ],
            "source": "sorted_rdd=rdd.sortBy(lambda x: x).zipWithIndex().map(lambda xy: (xy[1],xy[0]))\ng=sorted_rdd.count()\nif (g % 2 == 1) :\n    index= (g-1)/2\n    print(sorted_rdd.lookup(index))\nelse:\n    index1= (g/2)-1\n    index2=g/2\n    v1=sorted_rdd.lookup(index1)[0]\n    v2=sorted_rdd.lookup(index2)[0]\n    print ((v1+v2)/2)\n"
        },
        {
            "cell_type": "code",
            "execution_count": null,
            "metadata": {},
            "outputs": [],
            "source": "median=3.5\n"
        },
        {
            "cell_type": "code",
            "execution_count": 31,
            "metadata": {},
            "outputs": [
                {
                    "data": {
                        "text/plain": "8.8"
                    },
                    "execution_count": 31,
                    "metadata": {},
                    "output_type": "execute_result"
                }
            ],
            "source": "sc_rdd=sc.parallelize([34,1,23,4,3,3,12,4,3,1])\nmean=float(sc_rdd.sum()/sc_rdd.count())\nmean"
        },
        {
            "cell_type": "code",
            "execution_count": 32,
            "metadata": {},
            "outputs": [
                {
                    "data": {
                        "text/plain": "10.562196741208714"
                    },
                    "execution_count": 32,
                    "metadata": {},
                    "output_type": "execute_result"
                }
            ],
            "source": "from math import sqrt\nsqrt(sc_rdd.map(lambda x : pow(x-mean,2)).sum()/sc_rdd.count())"
        },
        {
            "cell_type": "code",
            "execution_count": 33,
            "metadata": {},
            "outputs": [],
            "source": "sd=10.562196741208714"
        },
        {
            "cell_type": "code",
            "execution_count": 34,
            "metadata": {},
            "outputs": [
                {
                    "data": {
                        "text/plain": "3.663124005193276"
                    },
                    "execution_count": 34,
                    "metadata": {},
                    "output_type": "execute_result"
                }
            ],
            "source": "#Kurtosis\nkurtosis=sc_rdd.map(lambda x : pow(x-mean,4)/pow(sd,4)).sum()/sc_rdd.count()\nkurtosis\n"
        },
        {
            "cell_type": "code",
            "execution_count": 35,
            "metadata": {},
            "outputs": [
                {
                    "data": {
                        "text/plain": "1.4549069329914"
                    },
                    "execution_count": 35,
                    "metadata": {},
                    "output_type": "execute_result"
                }
            ],
            "source": "#skew\n\nskew=sc_rdd.map(lambda x : pow(x-mean,3)/pow(sd,3)).sum()/sc_rdd.count()\nskew\n\n"
        },
        {
            "cell_type": "code",
            "execution_count": 37,
            "metadata": {},
            "outputs": [
                {
                    "data": {
                        "text/plain": "6.7"
                    },
                    "execution_count": 37,
                    "metadata": {},
                    "output_type": "execute_result"
                }
            ],
            "source": "x_rdd=sc.parallelize([1,2,3,4,5,6,7,8,9,10])\ny_rdd=sc.parallelize([7,6,5,4,5,6,7,8,9,10])\nmean_x=x_rdd.sum()/x_rdd.count()\nmean_y=y_rdd.sum()/y_rdd.count()\nmean_x\nmean_y"
        },
        {
            "cell_type": "code",
            "execution_count": 41,
            "metadata": {},
            "outputs": [
                {
                    "data": {
                        "text/plain": "[(1, 7),\n (2, 6),\n (3, 5),\n (4, 4),\n (5, 5),\n (6, 6),\n (7, 7),\n (8, 8),\n (9, 9),\n (10, 10)]"
                    },
                    "execution_count": 41,
                    "metadata": {},
                    "output_type": "execute_result"
                }
            ],
            "source": "rdd_xy=x_rdd.zip(y_rdd)\nrdd_xy.take(10)"
        },
        {
            "cell_type": "code",
            "execution_count": 46,
            "metadata": {},
            "outputs": [
                {
                    "data": {
                        "text/plain": "3.65"
                    },
                    "execution_count": 46,
                    "metadata": {},
                    "output_type": "execute_result"
                }
            ],
            "source": "covxy=rdd_xy.map(lambda xy:(xy[0]-mean_x)*(xy[1]-mean_y)).sum()/rdd_xy.count()\ncovxy"
        },
        {
            "cell_type": "code",
            "execution_count": 48,
            "metadata": {},
            "outputs": [
                {
                    "name": "stdout",
                    "output_type": "stream",
                    "text": "2.8722813232690143\n1.7916472867168916\n"
                }
            ],
            "source": "from math import sqrt\nsdx=sqrt(x_rdd.map(lambda x: pow(x-mean_x,2)).sum()/x_rdd.count())\nsdy=sqrt(y_rdd.map(lambda x: pow(x-mean_y,2)).sum()/y_rdd.count())\nprint (sdx)\nprint (sdy)"
        },
        {
            "cell_type": "code",
            "execution_count": 49,
            "metadata": {},
            "outputs": [
                {
                    "data": {
                        "text/plain": "0.709272912083725"
                    },
                    "execution_count": 49,
                    "metadata": {},
                    "output_type": "execute_result"
                }
            ],
            "source": "corrXY=covxy/(sdx*sdy)\ncorrXY"
        },
        {
            "cell_type": "code",
            "execution_count": null,
            "metadata": {},
            "outputs": [],
            "source": ""
        }
    ],
    "metadata": {
        "kernelspec": {
            "display_name": "Python 3.6 with Spark",
            "language": "python3",
            "name": "python36"
        },
        "language_info": {
            "codemirror_mode": {
                "name": "ipython",
                "version": 3
            },
            "file_extension": ".py",
            "mimetype": "text/x-python",
            "name": "python",
            "nbconvert_exporter": "python",
            "pygments_lexer": "ipython3",
            "version": "3.6.8"
        }
    },
    "nbformat": 4,
    "nbformat_minor": 1
}